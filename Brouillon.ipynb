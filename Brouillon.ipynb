{
 "cells": [
  {
   "cell_type": "markdown",
   "metadata": {},
   "source": [
    "Ceci est notre projet."
   ]
  },
  {
   "cell_type": "code",
   "execution_count": 6,
   "metadata": {},
   "outputs": [],
   "source": [
    "import numpy as np\n",
    "import numpy.random as rnd\n",
    "import itertools"
   ]
  },
  {
   "cell_type": "markdown",
   "metadata": {},
   "source": [
    "Initialize the classes"
   ]
  },
  {
   "cell_type": "code",
   "execution_count": 4,
   "metadata": {},
   "outputs": [],
   "source": [
    "\n",
    "\n",
    "class Bird:\n",
    "    \"\"\"A configuration of bird parameters\"\"\"\n",
    "\n",
    "    def __init__(self, X, Y, theta, V):\n",
    "        self.X = X\n",
    "        self.Y = Y\n",
    "        self.theta = theta\n",
    "        self.velocity = V\n",
    "    \n",
    "\n",
    "\n",
    "\n",
    "\n",
    "    def get_neighbors(self, swarm, R):\n",
    "        \"get the neighbors of a bird\"\n",
    "\n",
    "        #verify that swarm is a class and print error if not\n",
    "        if not isinstance(swarm, Swarm):\n",
    "            raise TypeError(\"swarm must be a Swarm class\")\n",
    "\n",
    "        neighbors = []\n",
    "        for bird in swarm:\n",
    "            if bird != self:\n",
    "                if np.sqrt((self.X - bird.X)**2 + (self.Y - bird.Y)**2) <= R:\n",
    "                    neighbors.append(bird)\n",
    "        return neighbors\n",
    "    \n",
    "    def get_mean_theta(self, neighbors):\n",
    "        \"get the average theta of the neighbors, according to the formula in the paper\"\n",
    "\n",
    "        thetas = [bird.theta for bird in neighbors]\n",
    "        mean = np.mean(np.sin(thetas))/np.mean(np.cos(thetas))\n",
    "        return np.arctan(mean)\n",
    "\n",
    "    # def evolve(self, dt):\n",
    "    #     \"get the new position of the bird\"\n",
    "\n",
    "    #     self.X += self.velocity * np.cos(self.theta) * dt\n",
    "    #     self.Y += self.velocity * np.sin(self.theta) * dt\n",
    "    #     self.theta += self.get_mean_theta(self.get_neighbors(swarm, R)) * dt\n",
    "    \n",
    "class Swarm :\n",
    "    \"Creats the swarm state with many birds\"\n",
    "\n",
    "    def __init__(self, L, rho, V, eta, radius):\n",
    "        self.length = L\n",
    "        self.rho = rho\n",
    "        self.velocity_norm = V\n",
    "        self.eta = eta\n",
    "        self.interaction_radius = radius\n",
    "\n",
    "        self.dt = 1\n",
    "        self.number = int(rho * (L**2))\n",
    "        self.birds = []\n",
    "\n",
    "    def initialize(self):\n",
    "        \"initialize the swarm with random positions and velocities\"\n",
    "\n",
    "        for i in range(self.number):\n",
    "            X = rnd.uniform(0, self.length)\n",
    "            Y = rnd.uniform(0, self.length)\n",
    "            theta = rnd.uniform(0, 2*np.pi)\n",
    "            self.birds.append(Bird(X, Y, theta, self.velocity_norm))\n",
    "\n",
    "    def get_swarm_mean_velocity(self):\n",
    "        \"get the mean vectorial velocity of the swarm, which is the order parameter\"\n",
    "\n",
    "        mean_vx = np.mean([bird.velocity * np.cos(bird.theta) for bird in self.birds])\n",
    "        mean_vy = np.mean([bird.velocity * np.sin(bird.theta) for bird in self.birds])\n",
    "\n",
    "        return np.sqrt(mean_vx**2 + mean_vy**2)/self.velocity_norm\n",
    "\n",
    "    def evolve(self):\n",
    "        \"evolve the swarm\"\n",
    "        \n",
    "        update = []\n",
    "\n",
    "        for bird in self.birds:\n",
    "            new_X = bird.X + bird.velocity * np.cos(bird.theta) * self.dt    # birds are indistinguishable, so it doesn't matter which way the list goes\n",
    "            new_Y = bird.Y + bird.velocity * np.sin(bird.theta) * self.dt\n",
    "            random_theta = np.random.uniform(-self.eta/2, self.eta/2)\n",
    "            new_theta = random_theta + bird.get_mean_theta(bird.get_neighbors(swarm, interaction_radius))\n",
    "\n",
    "            update.append([new_X, new_Y, new_theta])\n",
    "        \n",
    "        #enumerate self.birds to apply the update\n",
    "        for i, bird in enumerate(self.birds):\n",
    "            bird.X = update[i][0]\n",
    "            bird.Y = update[i][1]\n",
    "            bird.theta = update[i][2]\n",
    "\n"
   ]
  },
  {
   "cell_type": "markdown",
   "metadata": {},
   "source": [
    "Do the animation"
   ]
  },
  {
   "cell_type": "code",
   "execution_count": 7,
   "metadata": {},
   "outputs": [],
   "source": [
    "#create swarm of birds and do an animation of the evolution\n",
    "L = 10\n",
    "rho = 0.5\n",
    "V = 1\n",
    "eta = 0.5\n",
    "interaction_radius = 1\n",
    "swarm = Swarm(L, rho, V, eta, interaction_radius)\n",
    "swarm.initialize()"
   ]
  }
 ],
 "metadata": {
  "kernelspec": {
   "display_name": "Python 3",
   "language": "python",
   "name": "python3"
  },
  "language_info": {
   "codemirror_mode": {
    "name": "ipython",
    "version": 3
   },
   "file_extension": ".py",
   "mimetype": "text/x-python",
   "name": "python",
   "nbconvert_exporter": "python",
   "pygments_lexer": "ipython3",
   "version": "3.7.0"
  }
 },
 "nbformat": 4,
 "nbformat_minor": 2
}
