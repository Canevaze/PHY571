{
 "cells": [
  {
   "cell_type": "markdown",
   "metadata": {},
   "source": [
    "Ceci est notre projet."
   ]
  },
  {
   "cell_type": "code",
   "execution_count": 1,
   "metadata": {},
   "outputs": [
    {
     "name": "stdout",
     "output_type": "stream",
     "text": [
      "Hello World\n"
     ]
    }
   ],
   "source": [
    "print('Hello World')"
   ]
  },
  {
   "cell_type": "code",
   "execution_count": 3,
   "metadata": {},
   "outputs": [],
   "source": [
    "import numpy as np\n",
    "import numpy.random as rnd\n",
    "import itertools"
   ]
  },
  {
   "cell_type": "code",
   "execution_count": 2,
   "metadata": {},
   "outputs": [],
   "source": [
    "\n",
    "\n",
    "class Bird:\n",
    "    \"\"\"A configuration of bird parameters\"\"\"\n",
    "\n",
    "    def __init__(self, X, Y, theta, V):\n",
    "        self.X = X\n",
    "        self.Y = Y\n",
    "        self.theta = theta\n",
    "        self.velocity = V\n",
    "    \n",
    "\n",
    "\n",
    "\n",
    "\n",
    "    def get_neighbors(self, swarm, R):\n",
    "        \"get the neighbors of a bird\"\n",
    "\n",
    "        neighbors = []\n",
    "        for bird in swarm:\n",
    "            if bird != self:\n",
    "                if np.sqrt((self.X - bird.X)**2 + (self.Y - bird.Y)**2) <= R:\n",
    "                    neighbors.append(bird)\n",
    "        return neighbors\n",
    "    \n",
    "    def get_mean_theta(self, neighbors):\n",
    "        \"get the average theta of the neighbors, according to the formula in the paper\"\n",
    "\n",
    "        thetas = [bird.theta for bird in neighbors]\n",
    "        mean = np.mean(np.sin(thetas))/np.mean(np.cos(thetas))\n",
    "        return np.arctan(mean)\n",
    "\n",
    "    # def evolve(self, dt):\n",
    "    #     \"get the new position of the bird\"\n",
    "\n",
    "    #     self.X += self.velocity * np.cos(self.theta) * dt\n",
    "    #     self.Y += self.velocity * np.sin(self.theta) * dt\n",
    "    #     self.theta += self.get_mean_theta(self.get_neighbors(swarm, R)) * dt\n",
    "    \n",
    "class Swarm :\n",
    "    \"Creats the swarm state with many birds\"\n",
    "\n",
    "    def __init__(self, L, rho):\n",
    "        self.length = L\n",
    "        self.rho = rho\n",
    "        self.number = int(rho * (L**2))\n",
    "        self.birds = []\n",
    "        self.init_swarm()\n",
    "    \n",
    "    \n",
    "def config_to_image(config):\n",
    "    \"\"\"Turn an array into an image\"\"\"\n",
    "    L = config.size\n",
    "    im = np.zeros([L,L,3])\n",
    "    for i,j in itertools.product(range(L), repeat=2):\n",
    "        im[i,j,:] = (1,0,0) if config.spins[i,j]==1 else (0,0,0)\n",
    "    return im"
   ]
  }
 ],
 "metadata": {
  "kernelspec": {
   "display_name": "Python 3",
   "language": "python",
   "name": "python3"
  },
  "language_info": {
   "codemirror_mode": {
    "name": "ipython",
    "version": 3
   },
   "file_extension": ".py",
   "mimetype": "text/x-python",
   "name": "python",
   "nbconvert_exporter": "python",
   "pygments_lexer": "ipython3",
   "version": "3.7.0"
  }
 },
 "nbformat": 4,
 "nbformat_minor": 2
}
